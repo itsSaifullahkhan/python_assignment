{
 "cells": [
  {
   "cell_type": "markdown",
   "id": "5a555710-9d75-4f20-b126-bfe603ef1348",
   "metadata": {},
   "source": [
    "# Assignment"
   ]
  },
  {
   "cell_type": "markdown",
   "id": "9b24302d-532d-417c-a9f2-8b2a7b2a7284",
   "metadata": {},
   "source": [
    "### question 1"
   ]
  },
  {
   "cell_type": "code",
   "execution_count": 2,
   "id": "2bfacf12-b950-4210-ba1e-a63407ef14b0",
   "metadata": {},
   "outputs": [
    {
     "name": "stdout",
     "output_type": "stream",
     "text": [
      "you re not elegible for bonus\n"
     ]
    }
   ],
   "source": [
    "salary=int(input(\"enter your salary\"))\n",
    "years_of_service=int(input(\"enter your years of service\"))\n",
    "bonus=salary*0.05\n",
    "if years_of_service >5:\n",
    "    print(\"you get a bonus\")\n",
    "else:\n",
    "    print(\"you re not elegible for bonus\")"
   ]
  },
  {
   "cell_type": "markdown",
   "id": "0a8c5572-a57e-426d-8ca6-cee1f1b1ab34",
   "metadata": {},
   "source": [
    "## question2"
   ]
  },
  {
   "cell_type": "code",
   "execution_count": 3,
   "id": "563ba8d9-96c8-496c-947c-46fbeebf44bc",
   "metadata": {},
   "outputs": [
    {
     "name": "stdout",
     "output_type": "stream",
     "text": [
      "you are not elegible\n"
     ]
    }
   ],
   "source": [
    "age=int(input(\"enter your age\")) \n",
    "if age>17: \n",
    "    print(\"you are elegible\") \n",
    "else: print(\"you are not elegible\")"
   ]
  },
  {
   "cell_type": "markdown",
   "id": "f460144d-32b0-4131-ad01-81b606c87855",
   "metadata": {},
   "source": [
    "### question 3"
   ]
  },
  {
   "cell_type": "code",
   "execution_count": 4,
   "id": "36fa4da3-97ab-4f94-b830-3e583a779590",
   "metadata": {},
   "outputs": [
    {
     "name": "stdout",
     "output_type": "stream",
     "text": [
      "even\n"
     ]
    }
   ],
   "source": [
    "number=10\n",
    "if number %2 ==0:\n",
    "    print(\"even\")\n",
    "else:\n",
    "    print(\"odd\")"
   ]
  },
  {
   "cell_type": "markdown",
   "id": "673a19c6-bc9a-43a6-938c-d806b6c67fec",
   "metadata": {},
   "source": [
    "### question 4"
   ]
  },
  {
   "cell_type": "code",
   "execution_count": 5,
   "id": "c39b35bf-6d7d-44b7-b38e-032ac02dd8c8",
   "metadata": {},
   "outputs": [
    {
     "name": "stdout",
     "output_type": "stream",
     "text": [
      "number is not divisible by 7\n"
     ]
    }
   ],
   "source": [
    "number=int(input(\"enter your number\"))\n",
    "if number %7==0:\n",
    "    print(\"number is divisible by 7\")\n",
    "else:\n",
    "    print(\"number is not divisible by 7\")"
   ]
  },
  {
   "cell_type": "markdown",
   "id": "e2e3e43c-290f-40fc-8e52-2efd5f36f90a",
   "metadata": {},
   "source": [
    "### question 5"
   ]
  },
  {
   "cell_type": "code",
   "execution_count": 6,
   "id": "49355943-78a5-4ff2-986e-2219397b74e4",
   "metadata": {},
   "outputs": [
    {
     "name": "stdout",
     "output_type": "stream",
     "text": [
      "bye\n"
     ]
    }
   ],
   "source": [
    "number=int(input(\"enter your number\"))\n",
    "if number %5==0:\n",
    "    print(\"hello world\")\n",
    "else:\n",
    "    print(\"bye\")"
   ]
  },
  {
   "cell_type": "markdown",
   "id": "fa06d65e-1d71-409e-b980-1e393a3e459f",
   "metadata": {},
   "source": [
    "### question 6"
   ]
  },
  {
   "cell_type": "code",
   "execution_count": 7,
   "id": "5185c85f-1717-45bf-bd6c-80bc5c6a6779",
   "metadata": {},
   "outputs": [],
   "source": [
    "units=int(input(\"enter the number of units\"))\n",
    "if units <= 100:\n",
    "    bill=0\n",
    "elif units <=300:\n",
    "    bill=(units - 100)*5\n",
    "else:\n",
    "    bill=(200*5)+(units - 300)*10\n",
    "    print(f\"the total bill amount is Rs.{bill}\")\n",
    "    \n",
    "\n",
    "    \n",
    "                \n",
    "                "
   ]
  },
  {
   "cell_type": "markdown",
   "id": "317178e2-d5a8-470e-914b-d88fec6cc711",
   "metadata": {},
   "source": [
    "### question 7"
   ]
  },
  {
   "cell_type": "code",
   "execution_count": null,
   "id": "f6b03a9e-8328-40d8-82cf-d26b846db697",
   "metadata": {},
   "outputs": [],
   "source": [
    "number=int(input(\"enter a number:\"))\n",
    "last_digit=number %10\n",
    "print(f\"last digit of a number {number} : {last_digit}\")"
   ]
  },
  {
   "cell_type": "markdown",
   "id": "977c1dd6-5d3f-43ab-964c-215770d869e9",
   "metadata": {},
   "source": [
    "### question 8"
   ]
  },
  {
   "cell_type": "code",
   "execution_count": null,
   "id": "e29a0ae7-79b7-47f6-b370-5f00205afba3",
   "metadata": {},
   "outputs": [],
   "source": [
    "last_digit=number %10\n",
    "print(f\"last digit of a number {number} : {last_digit}\")\n",
    "if last_digit %3==0:\n",
    "    print(\"it is divisible by 3\")\n",
    "else:\n",
    "    print(\"it is not divisible by 3\")"
   ]
  },
  {
   "cell_type": "markdown",
   "id": "17f4a169-0ed9-4d39-b1a0-6ef22a39bec7",
   "metadata": {},
   "source": [
    "### question 9"
   ]
  },
  {
   "cell_type": "code",
   "execution_count": null,
   "id": "38e0eab2-b555-431a-be37-040b145697ee",
   "metadata": {},
   "outputs": [],
   "source": [
    "length=int(input(\"enter value of length\"))\n",
    "breadth=int(input(\"enter value of breadth\"))\n",
    "if length == breadth:\n",
    "    print(\"its a square\")\n",
    "else:\n",
    "    print(\"its a rectangle\")\n",
    "    \n",
    "        "
   ]
  },
  {
   "cell_type": "markdown",
   "id": "9adee298-2a01-4d28-96f3-8edfd39a2995",
   "metadata": {},
   "source": [
    "### question 10"
   ]
  },
  {
   "cell_type": "code",
   "execution_count": null,
   "id": "4e3b8a89-4a54-49c1-92db-547b06d5e3fe",
   "metadata": {},
   "outputs": [],
   "source": [
    "value1=int(input(\"enter the value\"))\n",
    "value2=int(input(\"enter the value\"))\n",
    "if value1>value2:\n",
    "    print(f\"value1\")\n",
    "if value1<value2:\n",
    "    print(f\"value2\")    "
   ]
  },
  {
   "cell_type": "markdown",
   "id": "491695f6-2b69-4b1f-94a3-dfaa8181de2f",
   "metadata": {},
   "source": [
    "### question 12"
   ]
  },
  {
   "cell_type": "code",
   "execution_count": null,
   "id": "6edc2bdc-616e-40ff-8ebc-edb803b2f647",
   "metadata": {},
   "outputs": [],
   "source": [
    "marks = int(input(\"enter your marks\"))\n",
    "if marks < 25:\n",
    "    print (\"F\")\n",
    "elif 25 <= marks < 45:\n",
    "    print (\"E\")\n",
    "elif 45 <= marks < 50:\n",
    "    print(\"D\")\n",
    "elif 50 <= marks < 60:\n",
    "    print(\"C\")\n",
    "elif 60 <= marks < 80:\n",
    "    print(\"B\")\n",
    "elif marks >= 80:\n",
    "    print(\"A\")"
   ]
  },
  {
   "cell_type": "markdown",
   "id": "cfa956e3-ee30-4942-9982-91b7b390d8f2",
   "metadata": {},
   "source": [
    "### question 13"
   ]
  },
  {
   "cell_type": "code",
   "execution_count": null,
   "id": "e9912155-f55f-4d53-9b1f-3459153066f8",
   "metadata": {},
   "outputs": [],
   "source": [
    "age1=int(input('enter age1: '))\n",
    "age2=int(input('enter age2: '))\n",
    "age3=int(input('enter age3: '))\n",
    "if age1>age2 and age1>age3:\n",
    "    print('age1 is oldest')\n",
    "elif age2>age1 and age2>age3:\n",
    "    print('age2 is oldest')\n",
    "else:\n",
    "    print('age3 is oldest')\n",
    "if age1<age2 and age1<age3:\n",
    "    print('age1 is youngest')\n",
    "elif age2<age1 and age2<age3:\n",
    "    print('age2 is youngest')\n",
    "else:\n",
    "     print('age3 is youngest')"
   ]
  },
  {
   "cell_type": "markdown",
   "id": "065da643-afb9-491b-84f7-5e5869687ea4",
   "metadata": {},
   "source": [
    "### question 14"
   ]
  },
  {
   "cell_type": "code",
   "execution_count": null,
   "id": "ba56cb15-4856-4de2-b2c5-d7c08239fdd3",
   "metadata": {},
   "outputs": [],
   "source": [
    "classes=59\n",
    "num_of_classes_held=int(input(\"enter num of classes held\"))\n",
    "num_of_classes_attend=int(input(\"enter num of classes attend\"))\n",
    "per=num_of_classes_attend/num_of_classes_held*100\n",
    "print(\"total per of student is\",per,\"%\")\n",
    "if per<75:\n",
    "    print(\"u will not allow to sit in exam\")\n",
    "else:\n",
    "    print(\"u will allow to sit in exam\")\n",
    "   "
   ]
  },
  {
   "cell_type": "markdown",
   "id": "5c21d9fe-25a7-47f0-9c06-22cab40c1248",
   "metadata": {},
   "source": [
    "### question 17"
   ]
  },
  {
   "cell_type": "code",
   "execution_count": null,
   "id": "4f9ff65b-cc7e-4e9b-8fc0-4b9f17bdeb90",
   "metadata": {},
   "outputs": [],
   "source": [
    "age=int(input(\"enter your age: \"))\n",
    "gender=input(\"enter your gender( M or F):\")\n",
    "martial_status=input(\"enter your martial status(Y/N):\")\n",
    "if gender==\"F\":\n",
    "    print(\"she will work only in urban areas\")\n",
    "elif gender==\"M\":\n",
    "   if 20>=age<=40:\n",
    "     print(\"he can work anywhere\")\n",
    "elif gender==\"M\":\n",
    "    if 40>=age<=60:\n",
    "        print(\"he can work only in urban  areas\")\n",
    "    else:\n",
    "        print(\"error\")"
   ]
  },
  {
   "cell_type": "markdown",
   "id": "9ede8766-1606-4be8-b6b6-bceb1536ca79",
   "metadata": {},
   "source": [
    "### question 16"
   ]
  },
  {
   "cell_type": "code",
   "execution_count": null,
   "id": "8f41cce6-2cc3-4110-b517-21ff821fb348",
   "metadata": {},
   "outputs": [],
   "source": [
    "year=int(input(\"enter the year\"))\n",
    "if year%4==0:\n",
    "    print(\"it is a leap year\")\n",
    "else:\n",
    "    print(\"it is not\")"
   ]
  },
  {
   "cell_type": "markdown",
   "id": "d3996dcf-264a-4f47-b1c9-2214b1a4cb9e",
   "metadata": {},
   "source": [
    "### question 6"
   ]
  },
  {
   "cell_type": "code",
   "execution_count": null,
   "id": "0851e313-bd45-4f44-88e5-f74cc07ede0c",
   "metadata": {},
   "outputs": [],
   "source": [
    "purchase_quantity=int(input(\"enter quantity\"))\n",
    "cost_of_unit=100\n",
    "total_cost=purchase_quantity*cost_of_unit\n",
    "discount_rate=0.1*total_cost\n",
    "discount=total_cost-discount_rate\n",
    "if total_cost>100:\n",
    "    print(\"you got discount and ur amount is:\")\n",
    "    print(discount)\n",
    "else:\n",
    "    print(\"your total cost is:\")\n",
    "    print(total_cost)\n",
    "    \n",
    "                      "
   ]
  },
  {
   "cell_type": "markdown",
   "id": "b81d1226-2ab3-4115-95cc-3fe460983622",
   "metadata": {},
   "source": [
    "### question 11"
   ]
  },
  {
   "cell_type": "code",
   "execution_count": null,
   "id": "a58aed50-57b8-4422-b877-446fd219a216",
   "metadata": {},
   "outputs": [],
   "source": [
    "quantity=int(input(\"enter req quantity\"))\n",
    "cost=100\n",
    "total_cost=quantity*cost\n",
    "if total_cost>1000:\n",
    "    total_cost=total_cost -0.1*total_cost\n",
    "    print(\"your total cost is {} with 10% discount\".format(total_cost))\n",
    "else:\n",
    "    print(\"your total cost is\",total_cost)"
   ]
  },
  {
   "cell_type": "markdown",
   "id": "e212b432-65b7-41b4-a207-8b4cccda3865",
   "metadata": {},
   "source": [
    "### question 15"
   ]
  },
  {
   "cell_type": "code",
   "execution_count": null,
   "id": "bd94d466-5009-4cc0-b95a-6f426bc0b92a",
   "metadata": {},
   "outputs": [],
   "source": [
    "medicalcause=input(\"tell me medical cause(y or N):\")\n",
    "if medicalcause==\"y\":\n",
    "    print(\"u will allow to sit in exam\")\n",
    "else:\n",
    "    print(\"you will not allow\")"
   ]
  },
  {
   "cell_type": "code",
   "execution_count": null,
   "id": "b6db5b51-d6f7-46ff-aa94-55ff1a22911b",
   "metadata": {},
   "outputs": [],
   "source": []
  }
 ],
 "metadata": {
  "kernelspec": {
   "display_name": "Python 3 (ipykernel)",
   "language": "python",
   "name": "python3"
  },
  "language_info": {
   "codemirror_mode": {
    "name": "ipython",
    "version": 3
   },
   "file_extension": ".py",
   "mimetype": "text/x-python",
   "name": "python",
   "nbconvert_exporter": "python",
   "pygments_lexer": "ipython3",
   "version": "3.11.4"
  }
 },
 "nbformat": 4,
 "nbformat_minor": 5
}
